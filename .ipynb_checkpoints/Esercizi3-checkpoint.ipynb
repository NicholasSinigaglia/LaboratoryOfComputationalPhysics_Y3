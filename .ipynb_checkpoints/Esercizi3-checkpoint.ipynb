{
 "cells": [
  {
   "cell_type": "markdown",
   "metadata": {},
   "source": [
    "### Numpy basics"
   ]
  },
  {
   "cell_type": "code",
   "execution_count": 2,
   "metadata": {},
   "outputs": [],
   "source": [
    "import numpy as np "
   ]
  },
  {
   "cell_type": "markdown",
   "metadata": {},
   "source": [
    "1\\. Find the row, column and overall means for the following matrix:\n",
    "\n",
    "```python\n",
    "m = np.arange(12).reshape((3,4))\n",
    "```"
   ]
  },
  {
   "cell_type": "code",
   "execution_count": 3,
   "metadata": {},
   "outputs": [
    {
     "name": "stdout",
     "output_type": "stream",
     "text": [
      "[[ 0  1  2  3]\n",
      " [ 4  5  6  7]\n",
      " [ 8  9 10 11]]\n",
      "Raw  1  Mean 1.5\n",
      "Raw  2  Mean 5.5\n",
      "Raw  3  Mean 9.5\n",
      "Columns  1  Mean 4.0\n",
      "Columns  2  Mean 5.0\n",
      "Columns  3  Mean 6.0\n",
      "Columns  4  Mean 7.0\n",
      "Overall mean:  5.5\n"
     ]
    }
   ],
   "source": [
    "m = np.arange(12).reshape((3,4))\n",
    "\n",
    "n_raw = len(m)\n",
    "n_col = len(m[0])\n",
    "\n",
    "print(m)\n",
    "\n",
    "for i in range (0,n_raw,1):\n",
    "    mean = 0\n",
    "    for j in range(0,n_col,1):\n",
    "        mean = mean + m[i][j]/n_col\n",
    "    print(\"Raw \", i+1, \" Mean\", mean)\n",
    "\n",
    "for i in range (0,n_col,1):\n",
    "    mean = 0\n",
    "    for j in range(0,n_raw,1):\n",
    "        mean = mean + m[j][i]/n_raw\n",
    "    print(\"Columns \", i+1, \" Mean\", mean)\n",
    "\n",
    "mean = 0\n",
    "for i in range (0,n_col,1):\n",
    "    for j in range(0,n_raw,1):\n",
    "        mean = mean + m[j][i]/(n_raw*n_col)\n",
    "    \n",
    "print(\"Overall mean: \" , mean)\n"
   ]
  },
  {
   "cell_type": "markdown",
   "metadata": {},
   "source": [
    "2\\. Find the outer product of the following two vecotrs\n",
    "\n",
    "```python\n",
    "u = np.array([1,3,5,7])\n",
    "v = np.array([2,4,6,8])\n",
    "```\n",
    "\n",
    "Do this in the following ways:\n",
    "\n",
    "   * Using the function outer in numpy\n",
    "   * Using a nested for loop or list comprehension\n",
    "   * Using numpy broadcasting operatoins\n"
   ]
  },
  {
   "cell_type": "code",
   "execution_count": 4,
   "metadata": {},
   "outputs": [
    {
     "name": "stdout",
     "output_type": "stream",
     "text": [
      "[[ 2  4  6  8]\n",
      " [ 6 12 18 24]\n",
      " [10 20 30 40]\n",
      " [14 28 42 56]]\n",
      "[[ 2.  4.  6.  8.]\n",
      " [ 6. 12. 18. 24.]\n",
      " [10. 20. 30. 40.]\n",
      " [14. 28. 42. 56.]]\n",
      "[[ 2  4  6  8]\n",
      " [ 6 12 18 24]\n",
      " [10 20 30 40]\n",
      " [14 28 42 56]]\n"
     ]
    }
   ],
   "source": [
    "u = np.array([1,3,5,7])\n",
    "v = np.array([2,4,6,8])\n",
    "\n",
    "#outer function\n",
    "product = np.outer(u,v)\n",
    "print(product)\n",
    "\n",
    "#for loop\n",
    "size1 = len(u)\n",
    "size2 = len(v)\n",
    "\n",
    "product = np.zeros((size1, size2))\n",
    "\n",
    "for i in range (0,size1,1):\n",
    "    for j in range (0,size2,1):\n",
    "        product[i][j] = u[i]*v[j]\n",
    "print(product)\n",
    "\n",
    "#broadcasting\n",
    "product = u[0]*v\n",
    "\n",
    "for i in range (1,size1,1):\n",
    "    product = np.concatenate((product,v*u[i]), axis=0)\n",
    "    \n",
    "product=product.reshape(size1,size2) \n",
    "print(product)"
   ]
  },
  {
   "cell_type": "markdown",
   "metadata": {},
   "source": [
    "3\\. Create a 10 by 6 matrix of random uniform numbers. Set all rows with any entry less than 0.1 to be zero\n",
    "\n",
    "Hint: Use the following numpy functions - np.random.random, np.any as well as Boolean indexing and the axis argument."
   ]
  },
  {
   "cell_type": "code",
   "execution_count": 5,
   "metadata": {},
   "outputs": [
    {
     "name": "stdout",
     "output_type": "stream",
     "text": [
      "[[0.85254473 0.16126964 0.72305261 0.10232175 0.68451952 0.29809778]\n",
      " [0.4604568  0.14936285 0.44857998 0.75431854 0.66021625 0.96222153]\n",
      " [0.49609972 0.         0.         0.60346264 0.1469934  0.19449562]\n",
      " [0.21709526 0.66611552 0.85690589 0.42714999 0.6848536  0.88921885]\n",
      " [0.98109453 0.63858099 0.8937352  0.76816417 0.17744903 0.27699654]\n",
      " [0.84253354 0.38911532 0.70484589 0.         0.7290385  0.62177134]\n",
      " [0.16126964 0.72305261 0.10232175 0.68451952 0.29809778 0.        ]\n",
      " [0.14936285 0.44857998 0.75431854 0.66021625 0.96222153 0.10535278]\n",
      " [0.         0.         0.60346264 0.1469934  0.19449562 0.19165405]\n",
      " [0.66611552 0.85690589 0.42714999 0.6848536  0.88921885 0.75647578]]\n"
     ]
    }
   ],
   "source": [
    "np.random.seed(17417) \n",
    "\n",
    "M = np.zeros((10, 6))\n",
    "random_vector = np.random.rand(60)\n",
    "\n",
    "for i in range (0,10,1):\n",
    "    for j in range (0,6,1):\n",
    "        r = random_vector[i+6*j]\n",
    "        if( r>0.1 ): M[i][j] = r\n",
    "            \n",
    "print(M)"
   ]
  },
  {
   "cell_type": "markdown",
   "metadata": {},
   "source": [
    "4\\. Use np.linspace to create an array of 100 numbers between 0 and 2π (includsive).\n",
    "\n",
    "  * Extract every 10th element using slice notation\n",
    "  * Reverse the array using slice notation\n",
    "  * Extract elements where the absolute difference between the sine and cosine functions evaluated at that element is less than 0.1\n",
    "  * Make a plot showing the sin and cos functions and indicate where they are close"
   ]
  },
  {
   "cell_type": "code",
   "execution_count": 7,
   "metadata": {},
   "outputs": [
    {
     "name": "stdout",
     "output_type": "stream",
     "text": [
      "[0.         0.63466518 1.26933037 1.90399555 2.53866073 3.17332591\n",
      " 3.8079911  4.44265628 5.07732146 5.71198664]\n",
      "[5.71198664 5.07732146 4.44265628 3.8079911  3.17332591 2.53866073\n",
      " 1.90399555 1.26933037 0.63466518 0.        ]\n",
      "[0.7615982190520711, 0.8250647373064104, 3.8714576135146945, 3.934924131769034]\n"
     ]
    },
    {
     "data": {
      "text/plain": [
       "[<matplotlib.lines.Line2D at 0x7f87847e8d30>]"
      ]
     },
     "execution_count": 7,
     "metadata": {},
     "output_type": "execute_result"
    },
    {
     "data": {
      "image/png": "[encoded data removed]",
      "text/plain": [
       "<Figure size 432x288 with 1 Axes>"
      ]
     },
     "metadata": {
      "needs_background": "light"
     },
     "output_type": "display_data"
    }
   ],
   "source": [
    "import matplotlib.pyplot as plt\n",
    "from math import pi \n",
    "\n",
    "M = np.linspace(0, 2*pi, 100)\n",
    "\n",
    "\n",
    "#Extract every 10th element using slice notation\n",
    "a = M[::10] \n",
    "print (a)\n",
    "\n",
    "#Reverse the array using slice notation\n",
    "reverse = a[::-1]\n",
    "print(reverse)\n",
    "\n",
    "#Extract elements where the absolute difference between...\n",
    "e=[]\n",
    "size = len(M)\n",
    "        \n",
    "for i in range (0,size,1):\n",
    "    d = np.sin(M[i]) - np.cos(M[i]) \n",
    "    if(d>-0.1 and d<0.1): e.append(M[i])\n",
    "        \n",
    "print(e)\n",
    "\n",
    "#Make a plot showing the sin and cos functions and indicate where they are close\n",
    "\n",
    "xs = M\n",
    "sin = np.sin(xs) \n",
    "cos = np.cos(xs) \n",
    "plt.plot(xs, sin)\n",
    "plt.plot(xs, cos)"
   ]
  },
  {
   "cell_type": "markdown",
   "metadata": {},
   "source": [
    "5\\. Create a matrix that shows the 10 by 10 multiplication table.\n",
    "\n",
    " * Find the trace of the matrix\n",
    " * Extract the anto-diagonal (this should be ```array([10, 18, 24, 28, 30, 30, 28, 24, 18, 10])```)\n",
    " * Extract the diagnoal offset by 1 upwards (this should be ```array([ 2,  6, 12, 20, 30, 42, 56, 72, 90])```)"
   ]
  },
  {
   "cell_type": "code",
   "execution_count": 8,
   "metadata": {},
   "outputs": [
    {
     "name": "stdout",
     "output_type": "stream",
     "text": [
      "[[  1   2   3   4   5   6   7   8   9  10]\n",
      " [  2   4   6   8  10  12  14  16  18  20]\n",
      " [  3   6   9  12  15  18  21  24  27  30]\n",
      " [  4   8  12  16  20  24  28  32  36  40]\n",
      " [  5  10  15  20  25  30  35  40  45  50]\n",
      " [  6  12  18  24  30  36  42  48  54  60]\n",
      " [  7  14  21  28  35  42  49  56  63  70]\n",
      " [  8  16  24  32  40  48  56  64  72  80]\n",
      " [  9  18  27  36  45  54  63  72  81  90]\n",
      " [ 10  20  30  40  50  60  70  80  90 100]]\n",
      "trace is  385\n",
      "[10, 18, 24, 28, 30, 30, 28, 24, 18, 10]\n",
      "[2, 6, 12, 20, 30, 42, 56, 72, 90]\n"
     ]
    }
   ],
   "source": [
    "a = np.array([1,2,3,4,5,6,7,8,9,10])\n",
    "M = np.outer(a,a)\n",
    "print(M)\n",
    "\n",
    "print(\"trace is \", np.trace(M))\n",
    "\n",
    "#anto-diagonal\n",
    "ad=[]\n",
    "for i in range (0,10,1):\n",
    "    for j in range (0,10,1):\n",
    "        if(i+j==9): ad.append(M[i][j])\n",
    "print(ad)\n",
    "\n",
    "#diagonal 1 upwards\n",
    "du=[]\n",
    "for i in range (0,10,1):\n",
    "    for j in range (0,10,1):\n",
    "        if(j==i+1): du.append(M[i][j])\n",
    "print(du)"
   ]
  },
  {
   "cell_type": "markdown",
   "metadata": {},
   "source": [
    "6\\. Use broadcasting to create a grid of distances\n",
    "\n",
    "Route 66 crosses the following cities in the US: Chicago, Springfield, Saint-Louis, Tulsa, Oklahoma City, Amarillo, Santa Fe, Albuquerque, Flagstaff, Los Angeles\n",
    "The corresponding positions in miles are: 0, 198, 303, 736, 871, 1175, 1475, 1544, 1913, 2448\n",
    "\n",
    "  * Construct a 2D grid of distances among each city along Route 66\n",
    "  * Convert that in km (those savages...)"
   ]
  },
  {
   "cell_type": "code",
   "execution_count": 9,
   "metadata": {},
   "outputs": [
    {
     "name": "stdout",
     "output_type": "stream",
     "text": [
      "[[   0.     318.582  487.527 1184.224 1401.439 1890.575 2373.275 2484.296\n",
      "  3078.017 3938.832]\n",
      " [ 318.582    0.     168.945  865.642 1082.857 1571.993 2054.693 2165.714\n",
      "  2759.435 3620.25 ]\n",
      " [ 487.527  168.945    0.     696.697  913.912 1403.048 1885.748 1996.769\n",
      "  2590.49  3451.305]\n",
      " [1184.224  865.642  696.697    0.     217.215  706.351 1189.051 1300.072\n",
      "  1893.793 2754.608]\n",
      " [1401.439 1082.857  913.912  217.215    0.     489.136  971.836 1082.857\n",
      "  1676.578 2537.393]\n",
      " [1890.575 1571.993 1403.048  706.351  489.136    0.     482.7    593.721\n",
      "  1187.442 2048.257]\n",
      " [2373.275 2054.693 1885.748 1189.051  971.836  482.7      0.     111.021\n",
      "   704.742 1565.557]\n",
      " [2484.296 2165.714 1996.769 1300.072 1082.857  593.721  111.021    0.\n",
      "   593.721 1454.536]\n",
      " [3078.017 2759.435 2590.49  1893.793 1676.578 1187.442  704.742  593.721\n",
      "     0.     860.815]\n",
      " [3938.832 3620.25  3451.305 2754.608 2537.393 2048.257 1565.557 1454.536\n",
      "   860.815    0.   ]]\n"
     ]
    }
   ],
   "source": [
    "dist = np.array([0, 198, 303, 736, 871, 1175, 1475, 1544, 1913, 2448])\n",
    "size = len(dist)\n",
    "\n",
    "M = np.zeros((size, size))\n",
    "\n",
    "for i in range (0,size,1):\n",
    "    for j in range (0,size,1):\n",
    "        M[i][j] = np.absolute(dist[i]-dist[j])\n",
    "        \n",
    "M = M*1.609\n",
    "\n",
    "print(M)"
   ]
  },
  {
   "cell_type": "markdown",
   "metadata": {},
   "source": [
    "7\\. Prime numbers sieve: compute the prime numbers in the 0-N (N=99 to start with) range with a sieve (mask).\n",
    "  * Constract a shape (100,) boolean array, the mask\n",
    "  * Identify the multiples of each number starting from 2 and set accordingly the corresponding mask element\n",
    "  * Apply the mask to obtain an array of ordered prime numbers\n",
    "  * Check the performances (timeit); how does it scale with N?\n",
    "  * Implement the optimization suggested in the [sieve of Eratosthenes](https://en.wikipedia.org/wiki/Sieve_of_Eratosthenes)"
   ]
  },
  {
   "cell_type": "code",
   "execution_count": 10,
   "metadata": {
    "scrolled": true
   },
   "outputs": [
    {
     "name": "stdout",
     "output_type": "stream",
     "text": [
      "[2 3 -- 5 -- 7 -- -- -- 11 -- 13 -- -- -- 17 -- 19 -- -- -- 23 -- -- -- --\n",
      " -- 29 -- 31 -- -- -- -- -- 37 -- -- -- 41 -- 43 -- -- -- 47 -- -- -- --\n",
      " -- 53 -- -- -- -- -- 59 -- 61 -- -- -- -- -- 67 -- -- -- 71 -- 73 -- --\n",
      " -- -- -- 79 -- -- -- 83 -- -- -- -- -- 89 -- -- -- -- -- -- -- 97 -- --]\n",
      "[2 3 -- 5 -- 7 -- -- -- 11 -- 13 -- -- -- 17 -- 19 -- -- -- 23 -- -- -- --\n",
      " -- 29 -- 31 -- -- -- -- -- 37 -- -- -- 41 -- 43 -- -- -- 47 -- -- -- --\n",
      " -- 53 -- -- -- -- -- 59 -- 61 -- -- -- -- -- 67 -- -- -- 71 -- 73 -- --\n",
      " -- -- -- 79 -- -- -- 83 -- -- -- -- -- 89 -- -- -- -- -- -- -- 97 -- --]\n",
      "347 µs ± 13.5 µs per loop (mean ± std. dev. of 7 runs, 1000 loops each)\n",
      "3.45 ms ± 31.6 µs per loop (mean ± std. dev. of 7 runs, 100 loops each)\n",
      "36.1 ms ± 1.46 ms per loop (mean ± std. dev. of 7 runs, 10 loops each)\n",
      "521 µs ± 12 µs per loop (mean ± std. dev. of 7 runs, 1000 loops each)\n",
      "7.81 ms ± 280 µs per loop (mean ± std. dev. of 7 runs, 100 loops each)\n",
      "102 ms ± 1.99 ms per loop (mean ± std. dev. of 7 runs, 10 loops each)\n"
     ]
    }
   ],
   "source": [
    "import math\n",
    "\n",
    "def prime(N,test):\n",
    "    x = np.arange(2, N, 1)\n",
    "    mask = np.zeros(N-2)\n",
    "\n",
    "    I = math.floor(math.sqrt(100))+2\n",
    "\n",
    "    for i in range(2,I,1):\n",
    "        J = math.ceil(N/i)\n",
    "        for j in range(i,J,1):\n",
    "            if(i*j<N): mask[i*j-2]=1           #not prime\n",
    "    \n",
    "    mx = np.ma.masked_array(x, mask)\n",
    "    if(test==1):print(mx)\n",
    "    return\n",
    "\n",
    "prime(100,1)\n",
    "\n",
    "def erast(N,test):\n",
    "    x = np.arange(2, N, 1)\n",
    "    mask = np.zeros(N-2)\n",
    "\n",
    "    check = 1\n",
    "    p = 2\n",
    "    while(check):\n",
    "        M = math.floor(N/p) + 1\n",
    "        \n",
    "        for i in range(2,M,1):\n",
    "            if(p*i < N): mask[p*i-2]=1\n",
    "            \n",
    "        p=p+1\n",
    "        if(p>math.sqrt(N)+1): check=0\n",
    "    \n",
    "    mx = np.ma.masked_array(x, mask)\n",
    "    if(test==1):print(mx)\n",
    "    return\n",
    "\n",
    "erast(100,1)\n",
    "\n",
    "%timeit prime(1000,0)    #286 µs ± 2.27 µs per loop (mean ± std. dev. of 7 runs, 1000 loops each)\n",
    "%timeit prime(10000,0)   #3.1 ms ± 37.2 µs per loop (mean ± std. dev. of 7 runs, 100 loops each)\n",
    "%timeit prime(100000,0)  #31 ms ± 54.6 µs per loop (mean ± std. dev. of 7 runs, 10 loops each)\n",
    "#tempo scala linearmente con N\n",
    "\n",
    "%timeit erast(1000,0)    \n",
    "%timeit erast(10000,0)   \n",
    "%timeit erast(100000,0) "
   ]
  },
  {
   "cell_type": "markdown",
   "metadata": {},
   "source": [
    "8\\. Diffusion using random walk\n",
    "\n",
    "Consider a simple random walk process: at each step in time, a walker jumps right or left (+1 or -1) with equal probability. The goal is to find the typical distance from the origin of a random walker after a given amount of time. \n",
    "To do that, let's simulate many walkers and create a 2D array with each walker as a raw and the actual time evolution as columns\n",
    "\n",
    "  * Take 1000 walkers and let them walk for 200 steps\n",
    "  * Use randint to create a 2D array of size walkers x steps with values -1 or 1\n",
    "  * Build the actual walking distances for each walker (i.e. another 2D array \"summing on each raw\")\n",
    "  * Take the square of that 2D array (elementwise)\n",
    "  * Compute the mean of the squared distances at each step (i.e. the mean along the columns)\n",
    "  * Plot the average distances (sqrt(distance\\*\\*2)) as a function of time (step)\n",
    "  \n",
    "Did you get what you expected?"
   ]
  },
  {
   "cell_type": "code",
   "execution_count": 13,
   "metadata": {},
   "outputs": [
    {
     "data": {
      "text/plain": [
       "Text(0.5, 1.0, 'squared mean distance')"
      ]
     },
     "execution_count": 13,
     "metadata": {},
     "output_type": "execute_result"
    },
    {
     "data": {
      "image/png": "[encoded data removed]",
      "text/plain": [
       "<Figure size 432x288 with 1 Axes>"
      ]
     },
     "metadata": {
      "needs_background": "light"
     },
     "output_type": "display_data"
    },
    {
     "data": {
      "image/png": "[encoded data removed]",
      "text/plain": [
       "<Figure size 432x288 with 1 Axes>"
      ]
     },
     "metadata": {
      "needs_background": "light"
     },
     "output_type": "display_data"
    }
   ],
   "source": [
    "Nw = 1000\n",
    "Ns = 200\n",
    "\n",
    "np.random.seed(14714) \n",
    "\n",
    "M = np.zeros((Nw, Ns))\n",
    "random_vector = np.random.rand(Nw*Ns)\n",
    "\n",
    "for i in range(0,Nw,1):\n",
    "    for j in range(1,Ns,1):\n",
    "        r=-1\n",
    "        if(random_vector[Ns*i+j]>0.5): r=1\n",
    "        M[i][j] = M[i][j-1]+r\n",
    "\n",
    "#M_s = np.zeros((Nw, Ns))\n",
    "#for i in range(0,Nw,1):\n",
    "#    for j in range(0,Ns,1):\n",
    "#        M_s[i][j] = abs(M[i][j])\n",
    "        \n",
    "mean = np.zeros(Ns)\n",
    "for j in range(0,Ns,1):\n",
    "    sum=0\n",
    "    for i in range(0,Nw,1):\n",
    "        sum=sum+abs(M[i][j])**2\n",
    "    mean[j]=np.sqrt(sum/Nw)\n",
    "    \n",
    "x = np.arange(0, Ns, 1)\n",
    "f1 = plt.figure()\n",
    "plt.plot(x, mean);\n",
    "plt.title('mean distance')\n",
    "f2 = plt.figure()\n",
    "plt.plot(x, mean*mean);\n",
    "plt.title('squared mean distance')\n",
    "\n",
    "#ok, non mi aspettavo aumentasse cosi precisamente come sqrt(n_step) e con cosi poche fluttuazioni, molto figo"
   ]
  },
  {
   "cell_type": "markdown",
   "metadata": {},
   "source": [
    "9\\. Analyze a data file \n",
    "  * Download the population of hares, lynxes and carrots at the beginning of the last century.\n",
    "    ```python\n",
    "    ! wget https://www.dropbox.com/s/3vigxoqayo389uc/populations.txt\n",
    "    ```\n",
    "\n",
    "  * Check the content by looking within the file\n",
    "  * Load the data (use an appropriate numpy method) into a 2D array\n",
    "  * Create arrays out of the columns, the arrays being (in order): *year*, *hares*, *lynxes*, *carrots* \n",
    "  * Plot the 3 populations over the years\n",
    "  * Compute the main statistical properties of the dataset (mean, std, correlations, etc.)\n",
    "  * Which species has the highest population each year?\n",
    "\n",
    "Do you feel there is some evident correlation here? [Studies](https://www.enr.gov.nt.ca/en/services/lynx/lynx-snowshoe-hare-cycle) tend to believe so."
   ]
  },
  {
   "cell_type": "code",
   "execution_count": 34,
   "metadata": {},
   "outputs": [
    {
     "name": "stdout",
     "output_type": "stream",
     "text": [
      "mean / std dev\n",
      "hare:  34080.95238095238 / 20897.906458089667\n",
      "lynx:  20166.666666666668 / 16254.591536908763\n",
      "carrot:  42400.0 / 3322.5062255844787\n",
      "\n",
      "\n",
      "In year 1900.0 highest population was: carrot\n",
      "In year 1901.0 highest population was: carrot\n",
      "In year 1902.0 highest population was: hare\n",
      "In year 1903.0 highest population was: hare\n",
      "In year 1904.0 highest population was: lynx\n",
      "In year 1905.0 highest population was: lynx\n",
      "In year 1906.0 highest population was: carrot\n",
      "In year 1907.0 highest population was: carrot\n",
      "In year 1908.0 highest population was: carrot\n",
      "In year 1909.0 highest population was: carrot\n",
      "In year 1910.0 highest population was: carrot\n",
      "In year 1911.0 highest population was: carrot\n",
      "In year 1912.0 highest population was: hare\n",
      "In year 1913.0 highest population was: hare\n",
      "In year 1914.0 highest population was: hare\n",
      "In year 1915.0 highest population was: lynx\n",
      "In year 1916.0 highest population was: carrot\n",
      "In year 1917.0 highest population was: carrot\n",
      "In year 1918.0 highest population was: carrot\n",
      "In year 1919.0 highest population was: carrot\n",
      "In year 1920.0 highest population was: carrot\n",
      "\n",
      "\n",
      "coefficiente di correlazione tra hare e carrot : -0.016603777709879402\n",
      "coefficiente di correlazione tra lynx e carrot : -0.6805771698401617\n",
      "coefficiente di correlazione tra hare e lynx : 0.07189206073535571\n",
      "\n",
      "coefficiente di correlazione tra hare e lynx a differenza di due anni: 0.9273333019188926\n",
      "coefficiente di correlazione tra hare e carrot a differenza di due anni: -0.6384794280412641\n"
     ]
    },
    {
     "data": {
      "image/png": "[encoded data removed]",
      "text/plain": [
       "<Figure size 432x288 with 1 Axes>"
      ]
     },
     "metadata": {
      "needs_background": "light"
     },
     "output_type": "display_data"
    }
   ],
   "source": [
    "# year hare lynx carrot\n",
    "import math\n",
    "\n",
    "def mean(vector):\n",
    "    size = len(vector)\n",
    "    s = 0\n",
    "    for i in range(0,size,1):\n",
    "        s=s+vector[i]\n",
    "    \n",
    "    return s/size\n",
    "\n",
    "\n",
    "\n",
    "def std_dev(vector,mean):\n",
    "    size = len(vector)\n",
    "    d=0\n",
    "    for i in range(0,size,1):  \n",
    "        d=d+(vector[i]-mean)**2\n",
    "    \n",
    "    return math.sqrt(d/size)\n",
    "\n",
    "\n",
    "    \n",
    "data = np.loadtxt(\"populations.txt\", dtype=np.float32)\n",
    "\n",
    "size = len(data)\n",
    "\n",
    "year = np.zeros(size)\n",
    "hare = np.zeros(size)\n",
    "lynx = np.zeros(size)\n",
    "carrot = np.zeros(size)\n",
    "\n",
    "for i in range(0,size,1):\n",
    "    row = data[i]\n",
    "    year[i]=row[0]\n",
    "    hare[i]=row[1]\n",
    "    lynx[i]=row[2]\n",
    "    carrot[i]=row[3]\n",
    "\n",
    "print(\"mean / std dev\")\n",
    "print(\"hare: \" , mean(hare), \"/\" , std_dev(hare,mean(hare)))\n",
    "print(\"lynx: \" , mean(lynx), \"/\" , std_dev(lynx,mean(lynx)))\n",
    "print(\"carrot: \" , mean(carrot), \"/\" , std_dev(carrot,mean(carrot)))  \n",
    "print() \n",
    "\n",
    "\n",
    "print() \n",
    "plt.plot(year, hare, label='hare');\n",
    "plt.plot(year, lynx, label='linx');\n",
    "plt.plot(year, carrot, label='carrot');\n",
    "plt.legend()\n",
    "\n",
    "for i in range(0,size,1):\n",
    "    x = \"name\"\n",
    "    if(hare[i]>carrot[i] and hare[i]>lynx[i]): x = \"hare\"\n",
    "    if(lynx[i]>carrot[i] and hare[i]<lynx[i]): x = \"lynx\"\n",
    "    if(hare[i]<carrot[i] and carrot[i]>lynx[i]): x = \"carrot\"\n",
    "    print(\"In year\", year[i], \"highest population was:\", x)\n",
    "    \n",
    "print()\n",
    "print()\n",
    "print(\"coefficiente di correlazione tra hare e carrot :\", np.corrcoef(hare,carrot)[0,1])\n",
    "print(\"coefficiente di correlazione tra lynx e carrot :\", np.corrcoef(lynx,carrot)[0,1])\n",
    "print(\"coefficiente di correlazione tra hare e lynx :\", np.corrcoef(hare,lynx)[0,1])\n",
    "print()\n",
    "hare = hare[0:size-2]\n",
    "lynx = lynx[2:size]\n",
    "carrot = carrot[2:size]\n",
    "print(\"coefficiente di correlazione tra hare e lynx a differenza di due anni:\", np.corrcoef(hare,lynx)[0,1])\n",
    "print(\"coefficiente di correlazione tra hare e carrot a differenza di due anni:\", np.corrcoef(hare,carrot)[0,1])\n",
    "\n"
   ]
  },
  {
   "cell_type": "code",
   "execution_count": null,
   "metadata": {},
   "outputs": [],
   "source": []
  }
 ],
 "metadata": {
  "kernelspec": {
   "display_name": "Python 3",
   "language": "python",
   "name": "python3"
  },
  "language_info": {
   "codemirror_mode": {
    "name": "ipython",
    "version": 3
   },
   "file_extension": ".py",
   "mimetype": "text/x-python",
   "name": "python",
   "nbconvert_exporter": "python",
   "pygments_lexer": "ipython3",
   "version": "3.8.3"
  }
 },
 "nbformat": 4,
 "nbformat_minor": 2
}
