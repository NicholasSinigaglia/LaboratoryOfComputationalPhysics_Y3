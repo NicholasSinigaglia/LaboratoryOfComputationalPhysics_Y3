{
 "cells": [
  {
   "cell_type": "markdown",
   "metadata": {},
   "source": [
    "1\\. Write a function that converts number representation (bin<->dec<->hex)"
   ]
  },
  {
   "cell_type": "code",
   "execution_count": 1,
   "metadata": {},
   "outputs": [
    {
     "name": "stdout",
     "output_type": "stream",
     "text": [
      "Number in decimal representation: 4\n",
      "Number in binary representation:  0b100\n",
      "Number in hexadecimal representation:  0x4\n"
     ]
    }
   ],
   "source": [
    "def converter_no_prefix(x):\n",
    "    bx=list(bin(x))\n",
    "    hx=list(hex(x))\n",
    "    bx.pop(0)         #no prefix\n",
    "    bx.pop(0)\n",
    "    hx.pop(0)\n",
    "    hx.pop(0)\n",
    "    return str(bx),str(hx)\n",
    "\n",
    "def converter(x):\n",
    "    return bin(x),hex(x)\n",
    "\n",
    "x = input(\"Number in decimal representation: \")\n",
    "y=int(x)\n",
    "bx,hx = converter(y)\n",
    "#bx,hx = converter_no_prefix(y)\n",
    "\n",
    "print(\"Number in binary representation: \", bx)\n",
    "print(\"Number in hexadecimal representation: \", hx)"
   ]
  },
  {
   "cell_type": "markdown",
   "metadata": {},
   "source": [
    "2\\. Write a function that converts a 32 bit word into a single precision floating point (i.e. interprets the various bits as sign, mantissa and exponent)"
   ]
  },
  {
   "cell_type": "code",
   "execution_count": 2,
   "metadata": {},
   "outputs": [
    {
     "name": "stdout",
     "output_type": "stream",
     "text": [
      "1.0690286138133973e+39\n"
     ]
    }
   ],
   "source": [
    "word = \"01000000010010010000111111011011\"\n",
    "W = list(word)\n",
    "\n",
    "bias = 127\n",
    "sign = (-1)**int(W[0])\n",
    "exponent = 0\n",
    "mantissa = 1\n",
    "\n",
    "for i in range(1,9,1):\n",
    "    exponent = exponent + int(W[i])*2**(9-i)\n",
    "    \n",
    "for i in range(9,32,1):\n",
    "    mantissa = mantissa + int(W[i])*2**(8-i)\n",
    "    \n",
    "number = sign*mantissa*2**(exponent-bias)\n",
    "\n",
    "print(number)"
   ]
  },
  {
   "cell_type": "markdown",
   "metadata": {},
   "source": [
    "3\\. Write a program to determine the underflow and overflow limits (within a factor of 2) for python on your computer. \n",
    "\n",
    "**Tips**: define two variables inizialized to 1 and halve/double them enough time to exceed the under/over-flow limits  "
   ]
  },
  {
   "cell_type": "code",
   "execution_count": null,
   "metadata": {},
   "outputs": [],
   "source": [
    "import math\n",
    "\n",
    "a = 0.5\n",
    "b = 1\n",
    "count1 = 1\n",
    "count2 = 0\n",
    "\n",
    "while(a!=b):   \n",
    "    b = a\n",
    "    a = a/2\n",
    "    count1 = count1 + 1\n",
    "\n",
    "a = 0.5\n",
    "b = 1   \n",
    "\n",
    "while(b<math.inf):    \n",
    "    b = b*2\n",
    "    count2 = count2 + 1\n",
    "\n",
    "print(\"Underflow count: \" , count1,\"Precision:\",2**(-count1))\n",
    "print(\"Overflow count: \" , count2,\"Precision:\",2**(count2))"
   ]
  },
  {
   "cell_type": "markdown",
   "metadata": {},
   "source": [
    "4\\. Write a program to determine the machine precision\n",
    "\n",
    "**Tips**: define a new variable by adding a smaller and smaller value (proceeding similarly to prob. 2) to an original variable and check the point where the two are the same "
   ]
  },
  {
   "cell_type": "code",
   "execution_count": 18,
   "metadata": {},
   "outputs": [
    {
     "name": "stdout",
     "output_type": "stream",
     "text": [
      "1.1092978472145843e-16\n"
     ]
    }
   ],
   "source": [
    "b = 1\n",
    "c = 1\n",
    "test = 1\n",
    "\n",
    "while(test==1):\n",
    "    c=c/1.001     #a piccoli passi cosi non dipende da c\n",
    "    if (b+c==b):\n",
    "        test = 0\n",
    "\n",
    "print(c)"
   ]
  },
  {
   "cell_type": "markdown",
   "metadata": {},
   "source": [
    "5\\. Write a function that takes in input three parameters $a$, $b$ and $c$ and prints out the two solutions to the quadratic equation $ax^2+bx+c=0$ using the standard formula:\n",
    "$$\n",
    "x=\\frac{-b\\pm\\sqrt{b^2-4ac}}{2a}\n",
    "$$\n",
    "\n",
    "(a) use the program to compute the solution for $a=0.001$, $b=1000$ and $c=0.001$\n",
    "\n",
    "(b) re-express the standard solution formula by multiplying top and bottom by $-b\\mp\\sqrt{b^2-4ac}$ and again find the solution for $a=0.001$, $b=1000$ and $c=0.001$. How does it compare with what previously obtained? Why?\n",
    "\n",
    "(c) write a function that compute the roots of a quadratic equation accurately in all cases"
   ]
  },
  {
   "cell_type": "code",
   "execution_count": 6,
   "metadata": {},
   "outputs": [
    {
     "name": "stdout",
     "output_type": "stream",
     "text": [
      "-9.999894245993346e-07 -999999.999999\n",
      "-1.000000000001e-06 -1000010.5755125057\n",
      "-1e-06 -999999.999999\n",
      "-7.275957614183426e-08 -129999999.99999993\n",
      "-7.692307692307696e-08 -137438953.472\n",
      "-7.692307692307692e-08 -129999999.99999993\n"
     ]
    }
   ],
   "source": [
    "import math\n",
    "\n",
    "def quad1(a,b,c):\n",
    "    x1 = (-b+math.sqrt(b**2-4*a*c))/(2*a) #differenza tra piccolo e grande, male\n",
    "    x2 = (-b-math.sqrt(b**2-4*a*c))/(2*a) #apposto\n",
    "    return x1,x2\n",
    "\n",
    "def quad2(a,b,c):\n",
    "    x1 = (2*c)/(-b-math.sqrt(b**2-4*a*c)) #apposto\n",
    "    x2 = (2*c)/(-b+math.sqrt(b**2-4*a*c)) #differenza tra piccolo e grande, male\n",
    "    return x1,x2\n",
    "\n",
    "#sqrt(1+x) ~ 1 + 0.5*x + ...\n",
    "def quad3(a,b,c):\n",
    "    x = 4*a*c/b**2\n",
    "    if(x < 10**-2):\n",
    "        x1 = b*(-0.5*x)/(2*a)             #apposto\n",
    "        x2 = (-2*b+0.5*x*b)/(2*a)         #apposto\n",
    "    else:\n",
    "        x1 = b*(-1+math.sqrt(1-x))/(2*a)  #apposto\n",
    "        x2 = b*(-1-math.sqrt(1-x))/(2*a)  #apposto\n",
    "        \n",
    "    return x1,x2\n",
    "\n",
    "a,b = quad1(0.001,1000,0.001)\n",
    "c,d = quad2(0.001,1000,0.001)\n",
    "e,f = quad3(0.001,1000,0.001)\n",
    "\n",
    "print(a,b)\n",
    "print(c,d)\n",
    "print(e,f)\n",
    "\n",
    "a,b = quad1(0.0001,13000,0.001)\n",
    "c,d = quad2(0.0001,13000,0.001)\n",
    "e,f = quad3(0.0001,13000,0.001)\n",
    "\n",
    "print(a,b)\n",
    "print(c,d)\n",
    "print(e,f)"
   ]
  },
  {
   "cell_type": "markdown",
   "metadata": {},
   "source": [
    "6\\. Write a program that implements the function $f(x)=x(x−1)$\n",
    "\n",
    "(a) Calculate the derivative of the function at the point $x = 1$ using the derivative definition:\n",
    "\n",
    "$$\n",
    "\\frac{{\\rm d}f}{{\\rm d}x} = \\lim_{\\delta\\to0} \\frac{f(x+\\delta)-f(x)}{\\delta}\n",
    "$$\n",
    "\n",
    "with $\\delta = 10^{−2}$. Calculate the true value of the same derivative analytically and compare with the answer your program gives. The two will not agree perfectly. Why not?\n",
    "\n",
    "(b) Repeat the calculation for $\\delta = 10^{−4}, 10^{−6}, 10^{−8}, 10^{−10}, 10^{−12}$ and $10^{−14}$. How does the accuracy scales with $\\delta$?"
   ]
  },
  {
   "cell_type": "code",
   "execution_count": 47,
   "metadata": {},
   "outputs": [
    {
     "name": "stdout",
     "output_type": "stream",
     "text": [
      "3\n",
      "3.009999999999957\n",
      "3.000100000005723\n",
      "3.0000010005082345\n",
      "2.999999981767587\n",
      "3.000000248221113\n",
      "3.000266701747023\n",
      "3.064215547965432\n"
     ]
    }
   ],
   "source": [
    "def f(x):\n",
    "    return x*(x-1)\n",
    "\n",
    "def der(x):\n",
    "    return 2*x-1\n",
    "\n",
    "def der_def(x,d):\n",
    "    return (f(x+d)-f(x))/d\n",
    "\n",
    "#derivata in x=2\n",
    "print(der(2))\n",
    "print(der_def(2,10**-2))\n",
    "print(der_def(2,10**-4))\n",
    "print(der_def(2,10**-6))\n",
    "print(der_def(2,10**-8))\n",
    "print(der_def(2,10**-10))\n",
    "print(der_def(2,10**-12))\n",
    "print(der_def(2,10**-14))"
   ]
  },
  {
   "cell_type": "markdown",
   "metadata": {},
   "source": [
    "7\\. Consider the integral of the semicircle of radius 1:\n",
    "$$\n",
    "I=\\int_{-1}^{1} \\sqrt(1-x^2) {\\rm d}x\n",
    "$$\n",
    "which it's known to be $I=\\frac{\\pi}{2}=1.57079632679...$.\n",
    "Alternatively we can use the Riemann definition of the integral:\n",
    "$$\n",
    "I=\\lim_{N\\to\\infty} \\sum_{k=1}^{N} h y_k \n",
    "$$\n",
    "\n",
    "with $h=2/N$ the width of each of the $N$ slices the domain is divided into and where\n",
    "$y_k$ is the value of the function at the $k-$th slice.\n",
    "\n",
    "(a) Write a programe to compute the integral with $N=100$. How does the result compares to the true value?\n",
    "\n",
    "(b) How much can $N$ be increased if the computation needs to be run in less than a second? What is the gain in running it for 1 minute? \n"
   ]
  },
  {
   "cell_type": "code",
   "execution_count": null,
   "metadata": {},
   "outputs": [
    {
     "name": "stdout",
     "output_type": "stream",
     "text": [
      "1.5185244144417758\n",
      "1.5691342555492505\n",
      "1.570743738501071\n",
      "1.5707962742034223\n"
     ]
    }
   ],
   "source": [
    "import math\n",
    "\n",
    "def f(x):\n",
    "    return math.sqrt(1-x**2)\n",
    "\n",
    "def Riemann(N):\n",
    "    integral = 0\n",
    "    h = 2/N\n",
    "    for i in range (1,N+1,1):\n",
    "        x = -1 + i*h\n",
    "        area_i = h*f(x)\n",
    "        integral = integral + area_i\n",
    "    return integral\n",
    "\n",
    "print(Riemann(10))\n",
    "print(Riemann(100))\n",
    "print(Riemann(1000))\n",
    "print(Riemann(10**5))\n",
    "print(Riemann(10**8))"
   ]
  },
  {
   "cell_type": "code",
   "execution_count": null,
   "metadata": {},
   "outputs": [],
   "source": []
  }
 ],
 "metadata": {
  "kernelspec": {
   "display_name": "Python 3",
   "language": "python",
   "name": "python3"
  },
  "language_info": {
   "codemirror_mode": {
    "name": "ipython",
    "version": 3
   },
   "file_extension": ".py",
   "mimetype": "text/x-python",
   "name": "python",
   "nbconvert_exporter": "python",
   "pygments_lexer": "ipython3",
   "version": "3.8.3"
  }
 },
 "nbformat": 4,
 "nbformat_minor": 2
}
