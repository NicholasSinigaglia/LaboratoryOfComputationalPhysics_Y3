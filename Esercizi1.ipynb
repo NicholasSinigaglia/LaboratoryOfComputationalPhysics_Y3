{
 "cells": [
  {
   "cell_type": "markdown",
   "metadata": {},
   "source": [
    "1\\. Write the following as a list comprehension"
   ]
  },
  {
   "cell_type": "code",
   "execution_count": 4,
   "metadata": {},
   "outputs": [
    {
     "name": "stdout",
     "output_type": "stream",
     "text": [
      "[(0, 0), (0, 1), (0, 2), (0, 3), (1, 0), (1, 1), (1, 2), (1, 3), (2, 0), (2, 1), (2, 2), (2, 3)]\n",
      "[0, 4, 16]\n",
      "[(0, 0), (0, 1), (0, 2), (0, 3), (1, 0), (1, 1), (1, 2), (1, 3), (2, 0), (2, 1), (2, 2), (2, 3)]\n",
      "[0, 4, 16]\n"
     ]
    }
   ],
   "source": [
    "# 1\n",
    "ans = []\n",
    "for i in range(3):\n",
    "    for j in range(4):\n",
    "        ans.append((i, j))\n",
    "print (ans)\n",
    "\n",
    "# 2\n",
    "ans = map(lambda x: x*x, filter(lambda x: x%2 == 0, range(5)))\n",
    "print (list(ans))\n",
    "\n",
    "##############################\n",
    "\n",
    "#1\n",
    "ans = [(i,j) for i in range(3) for j in range(4)]\n",
    "print (ans)\n",
    "\n",
    "#2\n",
    "ans = [i for i in map(lambda x: x*x, filter(lambda x: x%2 == 0, range(5)))]\n",
    "print (ans)\n"
   ]
  },
  {
   "cell_type": "markdown",
   "metadata": {},
   "source": [
    "2\\. Convert the following function into a pure function with no global variables or side effects"
   ]
  },
  {
   "cell_type": "code",
   "execution_count": 5,
   "metadata": {},
   "outputs": [
    {
     "name": "stdout",
     "output_type": "stream",
     "text": [
      "[1, 2, 3, 0, 1, 2, 3, 4]\n",
      "[1, 2, 3, 0, 1, 2, 3, 4]\n",
      "[1, 2, 3, 0, 1, 2, 3, 4]\n",
      "[1, 2, 3]\n"
     ]
    }
   ],
   "source": [
    "x = 5\n",
    "def f(alist):\n",
    "    for i in range(x):\n",
    "         alist.append(i)\n",
    "    return alist\n",
    "\n",
    "alist = [1,2,3]\n",
    "ans = f(alist)\n",
    "print (ans)\n",
    "print (alist) # alist has been changed!\n",
    "\n",
    "#############################################\n",
    "\n",
    "x = 5\n",
    "def f2(alist):\n",
    "    a = []\n",
    "    for i in range(x):\n",
    "         a.append(i)\n",
    "    return alist + a\n",
    "\n",
    "alist = [1,2,3]\n",
    "ans = f2(alist)\n",
    "print (ans)\n",
    "print (alist) # alist has not been changed!"
   ]
  },
  {
   "cell_type": "markdown",
   "metadata": {},
   "source": [
    "3\\. Write a `decorator` hello that makes every wrapped function print “Hello!”, i.e. something like:\n",
    "\n",
    "```python\n",
    "@hello\n",
    "def square(x):\n",
    "    return x*x\n",
    "```\n",
    "\n"
   ]
  },
  {
   "cell_type": "code",
   "execution_count": 6,
   "metadata": {},
   "outputs": [
    {
     "name": "stdout",
     "output_type": "stream",
     "text": [
      "Hello!\n",
      "9\n"
     ]
    }
   ],
   "source": [
    "def hello(func):\n",
    "    def wrapper(*args, **kwargs):\n",
    "        print(\"Hello!\")\n",
    "        func(*args, **kwargs)\n",
    "        return func(*args, **kwargs)\n",
    "    return wrapper                           #wrapper() non funzia\n",
    "\n",
    "@hello\n",
    "def square(x):\n",
    "    return x*x\n",
    "\n",
    "n=square(3)\n",
    "print(n)"
   ]
  },
  {
   "cell_type": "markdown",
   "metadata": {},
   "source": [
    "4\\. Write the factorial function so that it a) does and b) does not use recursion."
   ]
  },
  {
   "cell_type": "code",
   "execution_count": 7,
   "metadata": {},
   "outputs": [
    {
     "name": "stdout",
     "output_type": "stream",
     "text": [
      "720\n",
      "120\n"
     ]
    }
   ],
   "source": [
    "def fact_nrec(x):\n",
    "    b = 1\n",
    "    for i in range(1, x+1):\n",
    "        b = b * i\n",
    "    return b\n",
    "\n",
    "def fact_rec(x):\n",
    "    if x==0 or x==1:\n",
    "        return 1\n",
    "    else:\n",
    "        return x*fact_rec(x-1)\n",
    "\n",
    "print(fact_rec(6))\n",
    "print(fact_nrec(5))\n"
   ]
  },
  {
   "cell_type": "markdown",
   "metadata": {},
   "source": [
    "5\\. Use HOFs (zip in particular) to compute the weight of a circle, a disk and a sphere, assuming different radii and different densities:\n",
    "\n",
    "```python\n",
    "densities = {\"Al\":[0.5,1,2],\"Fe\":[3,4,5],\"Pb\": [15,20,30]}\n",
    "radii = [1,2,3]\n",
    "```\n",
    "\n",
    "where the entries of the dictionary's values are the linear, superficial and volumetric densities of the materials respectively.\n",
    "\n",
    "In particular define a list of three lambda functions using a comprehension that computes the circumference, the area and the volume for a given radius.\n"
   ]
  },
  {
   "cell_type": "code",
   "execution_count": 78,
   "metadata": {},
   "outputs": [
    {
     "name": "stdout",
     "output_type": "stream",
     "text": [
      "Element Density  Radius Dimension Weight\n",
      "Al      0.5       1        1         3.141592653589793\n",
      "Al      1       1        2         3.141592653589793\n",
      "Al      2       1        3         8.377580409572781\n",
      "Al      0.5       2        1         6.283185307179586\n",
      "Al      1       2        2         12.566370614359172\n",
      "Al      2       2        3         67.02064327658225\n",
      "Al      0.5       3        1         9.42477796076938\n",
      "Al      1       3        2         28.274333882308138\n",
      "Al      2       3        3         226.19467105846508\n",
      "Fe      3       1        1         18.84955592153876\n",
      "Fe      4       1        2         12.566370614359172\n",
      "Fe      5       1        3         20.94395102393195\n",
      "Fe      3       2        1         37.69911184307752\n",
      "Fe      4       2        2         50.26548245743669\n",
      "Fe      5       2        3         167.5516081914556\n",
      "Fe      3       3        1         56.548667764616276\n",
      "Fe      4       3        2         113.09733552923255\n",
      "Fe      5       3        3         565.4866776461627\n",
      "Pb      15       1        1         94.24777960769379\n",
      "Pb      20       1        2         62.83185307179586\n",
      "Pb      30       1        3         125.66370614359171\n",
      "Pb      15       2        1         188.49555921538757\n",
      "Pb      20       2        2         251.32741228718345\n",
      "Pb      30       2        3         1005.3096491487337\n",
      "Pb      15       3        1         282.7433388230814\n",
      "Pb      20       3        2         565.4866776461628\n",
      "Pb      30       3        3         3392.920065876976\n"
     ]
    }
   ],
   "source": [
    "#With zip\n",
    "\n",
    "from math import pi\n",
    "\n",
    "densities = {\"Al\":[0.5,1,2],\"Fe\":[3,4,5],\"Pb\": [15,20,30]}\n",
    "radii = [1,2,3]\n",
    "\n",
    "length_area_volume = [i for i in map(lambda r:[2*pi*r, pi*r**2, (4/3)*pi*r**3], radii)]\n",
    "#vengono applicate le funzioni nella prima lista a ogni elemento della seconda lista\n",
    "\n",
    "dimension = [1,2,3]\n",
    "print(\"Element\", \"Density\",\" Radius\", \"Dimension\",\"Weight\" )\n",
    "for d in densities:\n",
    "    densities_list = densities[d]\n",
    "    for i in range(0,3,1):  \n",
    "        for l,j,dim in zip(length_area_volume[i],densities_list, dimension):\n",
    "            weight = l*j\n",
    "            print (d , \"    \", j, \"     \", radii[i], \"      \" , dim , \"       \",weight)\n",
    "\n",
    "#Without zip\n",
    "\n",
    "#circumference = lambda r: 2*pi*r\n",
    "#area = lambda r: pi*r**2\n",
    "#volume = lambda r: (4/3)*pi*r**3\n",
    "#l_functions = [circumference,area,volume]\n",
    "\n",
    "#print(\"Element\", \"Density\",\" Radius\", \"Dimension\",\"Weight\"  )\n",
    "#for d in densities:\n",
    "#        densities_list = densities[d]\n",
    "#        size = len(densities_list)\n",
    "#        for i in range(0,3,1):  \n",
    "#            for r in range(0,size,1):\n",
    "#                weight = densities_list[i]*l_functions[i](radii[r])\n",
    "#                print (d , \"    \", densities_list[i], \"     \", radii[r], \"      \" , i+1 , \"       \",weight)"
   ]
  },
  {
   "cell_type": "code",
   "execution_count": null,
   "metadata": {},
   "outputs": [],
   "source": []
  },
  {
   "cell_type": "markdown",
   "metadata": {},
   "source": [
    "6\\. Edit the class defintion to add an instance attribute of is_hungry = True to the Dog class. Then add a method called eat() which changes the value of is_hungry to False when called. Figure out the best way to feed each dog and then output “My dogs are hungry.” if all are hungry or “My dogs are not hungry.” if all are not hungry. The final output should look like this:\n",
    "\n",
    "`I have 3 dogs. \n",
    "Tom is 6. \n",
    "Fletcher is 7. \n",
    "Larry is 9. \n",
    "And they're all mammals, of course. \n",
    "My dogs are not hungry.\n",
    "`"
   ]
  },
  {
   "cell_type": "code",
   "execution_count": 61,
   "metadata": {},
   "outputs": [
    {
     "name": "stdout",
     "output_type": "stream",
     "text": [
      "I have  3  dogs\n",
      "Tom is 6 years old\n",
      "Fletcher is 7 years old\n",
      "Larry is 9 years old\n",
      "And they're all mammals, of course\n",
      "My dogs are not hungry\n"
     ]
    }
   ],
   "source": [
    "#base class\n",
    "class Dog:\n",
    "    \n",
    "    #public \n",
    "    \n",
    "    def __init__(self, name, age):\n",
    "        self.__name = name          \n",
    "        self.__age = age\n",
    "        self.hungry = True\n",
    "    \n",
    "    def description(self):\n",
    "        return \"{} is {} years old\".format(self.__name, self.__age)\n",
    "\n",
    "    def speak(self, sound):\n",
    "        return \"{} says {}\".format(self.__name, sound)\n",
    "    \n",
    "    def eat(self):\n",
    "        self.hungry = False \n",
    "    \n",
    "    species = 'mammal'\n",
    "    \n",
    "    #protected\n",
    "    \n",
    "    #_species = 'mammal'\n",
    "    \n",
    "    #private\n",
    "    __name = None\n",
    "    __age = None\n",
    "    \n",
    "\n",
    "# Child class (inherits from Dog class)\n",
    "class RussellTerrier(Dog):\n",
    "    def run(self, speed):\n",
    "        return \"{} runs {}\".format(self.name, speed)\n",
    "\n",
    "# Child class (inherits from Dog class)\n",
    "class Bulldog(Dog):\n",
    "    def run(self, speed):\n",
    "        return \"{} runs {}\".format(self.name, speed)\n",
    "\n",
    "    \n",
    "test1 = 0\n",
    "test2 = 0\n",
    "\n",
    "Tom = Bulldog(\"Tom\",6)\n",
    "Fletcher = Bulldog(\"Fletcher\",7)\n",
    "Larry = RussellTerrier(\"Larry\",9)\n",
    "\n",
    "dogs = [Tom,Fletcher,Larry]\n",
    "\n",
    "print(\"I have \", len(dogs), \" dogs\")\n",
    "\n",
    "for d in dogs:\n",
    "    print(d.description())\n",
    "    d.eat()\n",
    "    if(d.species!=\"mammal\"):\n",
    "        test1 = test1 + 1\n",
    "    if(d.hungry):\n",
    "        test2 = test2 + 1\n",
    "\n",
    "if(test1):\n",
    "    print(\"And they aren't all mammals, HOW?!\")\n",
    "else:\n",
    "    print(\"And they're all mammals, of course\")\n",
    "\n",
    "if(test2):\n",
    "    print(\"My dogs are hungry\")\n",
    "else:\n",
    "    print(\"My dogs are not hungry\")\n",
    "    "
   ]
  },
  {
   "cell_type": "code",
   "execution_count": null,
   "metadata": {},
   "outputs": [],
   "source": []
  },
  {
   "cell_type": "code",
   "execution_count": null,
   "metadata": {},
   "outputs": [],
   "source": []
  }
 ],
 "metadata": {
  "kernelspec": {
   "display_name": "Python 3",
   "language": "python",
   "name": "python3"
  },
  "language_info": {
   "codemirror_mode": {
    "name": "ipython",
    "version": 3
   },
   "file_extension": ".py",
   "mimetype": "text/x-python",
   "name": "python",
   "nbconvert_exporter": "python",
   "pygments_lexer": "ipython3",
   "version": "3.8.3"
  }
 },
 "nbformat": 4,
 "nbformat_minor": 2
}
